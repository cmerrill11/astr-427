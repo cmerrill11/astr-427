{
 "cells": [
  {
   "cell_type": "markdown",
   "id": "a5a24256-01d5-4f8f-ab3c-5a1bc71728e7",
   "metadata": {},
   "source": [
    "# Problem Set 3: \n",
    "\n",
    "### Question 1: \n",
    "#### a)"
   ]
  },
  {
   "cell_type": "code",
   "execution_count": 13,
   "id": "a1bb676d-ac5f-494c-8fc8-3f3cb3788b40",
   "metadata": {},
   "outputs": [],
   "source": [
    "import numpy as np"
   ]
  },
  {
   "cell_type": "code",
   "execution_count": 50,
   "id": "e120c797-a136-4e15-a1ba-afb39fadee35",
   "metadata": {},
   "outputs": [
    {
     "name": "stdout",
     "output_type": "stream",
     "text": [
      "Midpoint rule, N = 10: 4.346760000000000\n",
      "Midpoint rule, N = 100: 4.399466676000000\n",
      "Midpoint rule, N = 1000: 4.399994666667599\n"
     ]
    }
   ],
   "source": [
    "def f1(x):\n",
    "    \"\"\"\n",
    "    A helper function to return the value of the funtion at x\n",
    "    \"\"\"\n",
    "    return x**4 - 2*x + 1\n",
    "\n",
    "def midpoint(f, N):\n",
    "    \"\"\"\n",
    "    Perform midpoint integration from\n",
    "    0 to 2 using N midpoint evaluations\n",
    "    \n",
    "    N: The number of time the function is evaluated\n",
    "    \"\"\"\n",
    "    \n",
    "    edges = np.linspace(0,2,N + 1) # The bin edges for each evaluation\n",
    "    midpoints = edges[1:] - (edges[1]/2) # The bin midpoints\n",
    "    f_of_x = f(midpoints) # The value of the function at the midpoint\n",
    "    h = 2/N # The width of each bin\n",
    "    return sum(h * f_of_x) # Return the sum of the bin width times the function value for each bin\n",
    "\n",
    "n10 = midpoint(f1, 10)\n",
    "print(f\"Midpoint rule, N = 10: {n10:0.15f}\")\n",
    "\n",
    "n100 = midpoint(f1, 100)\n",
    "print(f\"Midpoint rule, N = 100: {n100:0.15f}\")\n",
    "\n",
    "n1000 = midpoint(f1, 1000)\n",
    "print(f\"Midpoint rule, N = 1000: {n1000:0.15f}\")"
   ]
  },
  {
   "cell_type": "markdown",
   "id": "11c3544e-746d-4859-b43c-224b2463aee4",
   "metadata": {},
   "source": [
    "#### b) "
   ]
  },
  {
   "cell_type": "code",
   "execution_count": 53,
   "id": "48032dde-5cb4-46e5-b224-f02e6fecba7b",
   "metadata": {},
   "outputs": [
    {
     "name": "stdout",
     "output_type": "stream",
     "text": [
      "Trapazoidal rule for N = 10: 4.506560000000000\n",
      "Trapazoidal rule for N = 100: 4.401066656000000\n",
      "Trapazoidal rule for N = 1000: 4.400010666665600\n"
     ]
    }
   ],
   "source": [
    "def trap(f, N):\n",
    "    \"\"\"\n",
    "    Perform tapazoidal integration from 0 to 2\n",
    "    using N + 1 evaluations. \n",
    "    \"\"\"\n",
    "    edges = np.linspace(0, 2, N + 1) # Define the points where the function is evaluated\n",
    "    s = 0.5 * f(edges[0]) + 0.5 * f(edges[-1]) # Combine the first two terms in the sum \n",
    "    s += sum(f(edges[1:-1])) # Combine the rest of the terms in the sum\n",
    "    h = 2 / N # Calculate the width of each bin\n",
    "    return h * s\n",
    "\n",
    "trap_10 = trap(f1, 10)\n",
    "print(f\"Trapazoidal rule for N = 10: {trap_10:0.15f}\")\n",
    "\n",
    "trap_100 = trap(f1, 100)\n",
    "print(f\"Trapazoidal rule for N = 100: {trap_100:0.15f}\")\n",
    "\n",
    "trap_1000 = trap(f1, 1000)\n",
    "print(f\"Trapazoidal rule for N = 1000: {trap_1000:0.15f}\")\n"
   ]
  },
  {
   "cell_type": "markdown",
   "id": "6ce991e5-a844-4320-a9a7-53400d0172ca",
   "metadata": {},
   "source": [
    "#### c)"
   ]
  },
  {
   "cell_type": "code",
   "execution_count": 54,
   "id": "1ed700bc-d72c-40b6-ac97-2e27697cfa6b",
   "metadata": {},
   "outputs": [
    {
     "name": "stdout",
     "output_type": "stream",
     "text": [
      "Simpsons Rule for N = 10: 4.400426666666667\n",
      "Simpsons Rule for N = 100: 4.400000042666667\n",
      "Simpsons Rule for N = 1000: 4.400000000004267\n"
     ]
    }
   ],
   "source": [
    "vals = [10, 100, 1000]\n",
    "\n",
    "def simpsons(f, N):\n",
    "    \"\"\"\n",
    "    Use simposons rule to calculate the integral from\n",
    "    0 to 2 using N evaluations\n",
    "    \"\"\"\n",
    "    edges = np.linspace(0, 2, N + 1) # All the points where the function is evaluated\n",
    "\n",
    "    h = 2 / N # The width of the bins\n",
    "    s = f(edges[0]) + f(edges[-1])\n",
    "    s += 4 * sum(f(edges[1:-1:2]))\n",
    "    s += 2 * sum(f(edges[2:-1:2]))\n",
    "    return (1/3) * h * s\n",
    "\n",
    "for i in vals:\n",
    "    ap = simpsons(f1, i)\n",
    "    print(f\"Simpsons Rule for N = {i}: {ap:0.15f}\")"
   ]
  },
  {
   "cell_type": "markdown",
   "id": "b8cfd38a-c49a-4d82-b80e-267f084394a1",
   "metadata": {},
   "source": [
    "#### D)"
   ]
  },
  {
   "cell_type": "code",
   "execution_count": 64,
   "id": "d8b26d59-6145-4456-ad54-c366e50f34a7",
   "metadata": {},
   "outputs": [
    {
     "name": "stdout",
     "output_type": "stream",
     "text": [
      "The error for midpoint rule with N = 10 is 1.21000000000001 percent\n",
      "The error for midpoint rule with N = 100 is 0.0121210000000013 percent\n",
      "The error for midpoint rule with N = 1000 is 0.000121212100033897 percent\n",
      "The error for trapazoidal rule with N = 10 is 2.42181818181818 percent\n",
      "The error for trapazoidal rule with N = 100 is 0.0242421818181793 percent\n",
      "The error for trapazoidal rule with N = 1000 is 0.000242424218174523 percent\n",
      "The error for simpsons rule with N = 10 is 0.00969696969697267 percent\n",
      "The error for simpsons rule with N = 100 is 9.69696969186564e-07 percent\n",
      "The error for simpsons rule with N = 1000 is 9.69729347327137e-11 percent\n"
     ]
    }
   ],
   "source": [
    "def error(method, f, N, exact):\n",
    "    \"\"\"\n",
    "    Calculates the fractional error of integration method func\n",
    "    using N slices\n",
    "    \"\"\"\n",
    "    return abs(method(f, N) - exact) / exact\n",
    "\n",
    "funcs = [midpoint, trap, simpsons]\n",
    "names = ['midpoint rule', 'trapazoidal rule', 'simpsons rule']\n",
    "\n",
    "for i,s in enumerate(funcs): \n",
    "    for n in vals:\n",
    "        # print(type(n), n)\n",
    "        err = error(s, f1, n, 4.4)\n",
    "        print(f\"The error for {names[i]} with N = {n} is {err * 100:0.15} percent\")"
   ]
  },
  {
   "cell_type": "markdown",
   "id": "52e3422a-33d6-47f1-b2a9-2d2d910f762e",
   "metadata": {},
   "source": [
    "The size of the error for the midpoint and trapazoidal rule are comparable for the same number of steps. The size of the error for simpons rule is ~ 2 orders of magnitude less for N = 10, ~ 5 oders of magnitude less for N = 100 and ~ 7 orders of magnitude less for N = 1000.  "
   ]
  },
  {
   "cell_type": "code",
   "execution_count": 65,
   "id": "c6a1c50f-a382-4631-a990-5082672bf613",
   "metadata": {},
   "outputs": [
    {
     "name": "stdout",
     "output_type": "stream",
     "text": [
      "The error for the trapazoidal rule at N = 10 using theEuler-McClaurin error is 0.00242424242423812 percent\n",
      "The error for the trapazoidal rule at N = 100 using theEuler-McClaurin error is 2.42424242296641e-07 percent\n",
      "The error for the trapazoidal rule at N = 1000 using theEuler-McClaurin error is 2.42432336831784e-11 percent\n",
      "The error for the simpsons rule at N = 10 using theEuler-McClaurin error is 0.0 percent\n",
      "The error for the simpsons rule at N = 100 using theEuler-McClaurin error is 0.0 percent\n",
      "The error for the simpsons rule at N = 1000 using theEuler-McClaurin error is 0.0 percent\n"
     ]
    }
   ],
   "source": [
    "# The first derivative of f is 4*x**3 - 2\n",
    "# And the second is 12x**2\n",
    "# The third is 24x\n",
    "\n",
    "\n",
    "def em_trap1(N):\n",
    "    \"\"\"\n",
    "    calculate the Euler-McClaurin error for the trapazoidal rule using N\n",
    "    \"\"\"\n",
    "    h = 2 / N\n",
    "    return (1/12)* h **2 * ((4*(0)**3 - 2) - (4*(2)**3 - 2)) # Evaluate 0 and 2 using f'\n",
    "                           \n",
    "def em_simpsons1(N):\n",
    "    \"\"\"\n",
    "    Calculate the Euler-McClaurin error for simpsons rule using N\n",
    "    \"\"\"\n",
    "    h = 2 / N\n",
    "    return (1/180) * h**4 * (- 24*2) # Evaluate 0 and 2 using f'''\n",
    "\n",
    "corrs = [em_trap, em_simpsons]\n",
    "for i,s in enumerate(funcs[-2:]):\n",
    "    for n in vals: \n",
    "        sol = s(f1, n) + corrs[i](n)\n",
    "        frac = abs(sol - 4.4) / 4.4\n",
    "        print(f\"The error for the {names[i + 1]} at N = {n} using the\" + \n",
    "              f\"Euler-McClaurin error is {frac * 100:0.15} percent\")"
   ]
  },
  {
   "cell_type": "markdown",
   "id": "cc00dcaf-5dc9-41b6-8592-f26387cb6fbe",
   "metadata": {},
   "source": [
    "For the trapazoidal rule, the accuracy of the integral approximation improved a lot. I suppose the same is true for simpsons rule as well but those errors are forced below machine precision using the Euler-McClaurin error method. \n",
    "\n",
    "*Add a better comment here*"
   ]
  },
  {
   "cell_type": "markdown",
   "id": "e6d7fb4a-76bc-437f-a66b-498660d9fc63",
   "metadata": {},
   "source": [
    "#### E)\n",
    "*Need to ask what it means, or read, so that it has the precision of trapazoidal integration with N = 9, N = 129, N = 1025"
   ]
  },
  {
   "cell_type": "code",
   "execution_count": 66,
   "id": "8de80f57-e528-444b-8898-e65741781d83",
   "metadata": {},
   "outputs": [
    {
     "ename": "TypeError",
     "evalue": "simpsons() missing 1 required positional argument: 'N'",
     "output_type": "error",
     "traceback": [
      "\u001b[0;31m---------------------------------------------------------------------------\u001b[0m",
      "\u001b[0;31mTypeError\u001b[0m                                 Traceback (most recent call last)",
      "\u001b[0;32m/tmp/ipykernel_104/2308973675.py\u001b[0m in \u001b[0;36m<module>\u001b[0;34m\u001b[0m\n\u001b[1;32m      6\u001b[0m \u001b[0;31m#with endpoints 0 and 2\u001b[0m\u001b[0;34m\u001b[0m\u001b[0;34m\u001b[0m\u001b[0m\n\u001b[1;32m      7\u001b[0m \u001b[0mh\u001b[0m \u001b[0;34m=\u001b[0m \u001b[0mxarr\u001b[0m\u001b[0;34m[\u001b[0m\u001b[0;36m1\u001b[0m\u001b[0;34m]\u001b[0m\u001b[0;34m-\u001b[0m\u001b[0mxarr\u001b[0m\u001b[0;34m[\u001b[0m\u001b[0;36m0\u001b[0m\u001b[0;34m]\u001b[0m \u001b[0;31m#this is our stepsize\u001b[0m\u001b[0;34m\u001b[0m\u001b[0;34m\u001b[0m\u001b[0m\n\u001b[0;32m----> 8\u001b[0;31m \u001b[0mintegrate\u001b[0m\u001b[0;34m.\u001b[0m\u001b[0mromb\u001b[0m\u001b[0;34m(\u001b[0m\u001b[0mf\u001b[0m\u001b[0;34m(\u001b[0m\u001b[0mxarr\u001b[0m\u001b[0;34m)\u001b[0m\u001b[0;34m,\u001b[0m \u001b[0mh\u001b[0m\u001b[0;34m)\u001b[0m\u001b[0;34m\u001b[0m\u001b[0;34m\u001b[0m\u001b[0m\n\u001b[0m",
      "\u001b[0;31mTypeError\u001b[0m: simpsons() missing 1 required positional argument: 'N'"
     ]
    }
   ],
   "source": [
    "import scipy.integrate as integrate\n",
    "#easy way to convert N=10 to N=9, N=1000 to N=1025 etc :\n",
    "N = 10\n",
    "N = 2**int(np.log(N)/np.log(2)+.5)+1\n",
    "xarr = np.linspace(0, 2, N) #make an array of size N\n",
    "#with endpoints 0 and 2\n",
    "h = xarr[1]-xarr[0] #this is our stepsize\n",
    "integrate.romb(f(xarr), h)"
   ]
  },
  {
   "cell_type": "markdown",
   "id": "202fb068-5231-4b17-b9d2-9a9b1c1e374c",
   "metadata": {},
   "source": [
    "#### F)\n",
    "*Need to read about gaussian Quadrature*"
   ]
  },
  {
   "cell_type": "markdown",
   "id": "5c4cb828-9212-4860-b395-96f5efe269c2",
   "metadata": {},
   "source": [
    "#### G)\n"
   ]
  },
  {
   "cell_type": "code",
   "execution_count": 67,
   "id": "f7ea644e-c5c2-414b-8970-0df8e3799ce8",
   "metadata": {},
   "outputs": [
    {
     "name": "stdout",
     "output_type": "stream",
     "text": [
      "midpoint rule with N = 10: 0.224410268139703\n",
      "midpoint rule with N = 100: 0.182181798328343\n",
      "midpoint rule with N = 1000: 0.18181828722794\n",
      "trapazoidal rule with N = 10: 0.101791627236244\n",
      "trapazoidal rule with N = 100: 0.181080709385174\n",
      "trapazoidal rule with N = 1000: 0.181807287332479\n",
      "simpsons rule with N = 10: 0.232773038828839\n",
      "simpsons rule with N = 100: 0.181817000460517\n",
      "simpsons rule with N = 1000: 0.181814620817962\n"
     ]
    }
   ],
   "source": [
    "def f2(x):\n",
    "    \"\"\"\n",
    "    Return the value of the function sin(11x)\n",
    "    \"\"\"\n",
    "    return np.sin(11*x)\n",
    "\n",
    "for i, f in enumerate(funcs):\n",
    "    for n in vals:\n",
    "        sol = f(f2, n)\n",
    "        print(f\"{names[i]} with N = {n}: {sol:0.15}\")"
   ]
  },
  {
   "cell_type": "code",
   "execution_count": 68,
   "id": "c66b0d7f-9ad4-493c-9263-4b18db1e93cd",
   "metadata": {},
   "outputs": [
    {
     "name": "stdout",
     "output_type": "stream",
     "text": [
      "The error for midpoint rule with N = 10 is 23.4280650379921 percent\n",
      "The error for midpoint rule with N = 100 is 0.201951716445375 percent\n",
      "The error for midpoint rule with N = 1000 is 0.00201669513583549 percent\n",
      "The error for trapazoidal rule with N = 10 is 44.0135084237027 percent\n",
      "The error for trapazoidal rule with N = 100 is 0.403659064276661 percent\n",
      "The error for trapazoidal rule with N = 1000 is 0.00403336586923062 percent\n",
      "The error for simpsons rule with N = 10 is 28.0276790087477 percent\n",
      "The error for simpsons rule with N = 100 is 0.00130895919086886 percent\n",
      "The error for simpsons rule with N = 1000 is 1.30149747791167e-07 percent\n"
     ]
    }
   ],
   "source": [
    "# The solution to the integral from 0 to 2 for the second function\n",
    "exact = (1 - np.cos(22))/11\n",
    "for i,s in enumerate(funcs): \n",
    "    for n in vals:\n",
    "        # print(type(n), n)\n",
    "        err = error(s, f2, n, exact)\n",
    "        print(f\"The error for {names[i]} with N = {n} is {err * 100:0.15} percent\")"
   ]
  },
  {
   "cell_type": "code",
   "execution_count": null,
   "id": "9cde9e1e-0bef-49b9-90e9-0a2f6d03218f",
   "metadata": {},
   "outputs": [],
   "source": []
  }
 ],
 "metadata": {
  "kernelspec": {
   "display_name": "Python 3 (ipykernel)",
   "language": "python",
   "name": "python3"
  },
  "language_info": {
   "codemirror_mode": {
    "name": "ipython",
    "version": 3
   },
   "file_extension": ".py",
   "mimetype": "text/x-python",
   "name": "python",
   "nbconvert_exporter": "python",
   "pygments_lexer": "ipython3",
   "version": "3.9.7"
  }
 },
 "nbformat": 4,
 "nbformat_minor": 5
}
