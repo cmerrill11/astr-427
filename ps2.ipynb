{
 "cells": [
  {
   "cell_type": "markdown",
   "id": "dbe97f82-898c-4330-8a2d-11ad47980895",
   "metadata": {},
   "source": [
    "# Problem Set 2:\n",
    "# 1\n",
    "### a) *Find the smallest number $\\epsilon$ such that $1 - \\epsilon \\neq 1$*"
   ]
  },
  {
   "cell_type": "code",
   "execution_count": 1,
   "id": "a2933a6b-8e48-4f65-adfd-fd65feaf994e",
   "metadata": {},
   "outputs": [],
   "source": [
    "import numpy as np\n",
    "import scipy.stats\n",
    "import matplotlib.pyplot as plt"
   ]
  },
  {
   "cell_type": "code",
   "execution_count": 2,
   "id": "29b1bd89-331c-4b50-bc56-7b7eb17bf1b6",
   "metadata": {},
   "outputs": [
    {
     "name": "stdout",
     "output_type": "stream",
     "text": [
      "0.0000000000000000555112 is approximately the smallest number such that 1 - e /= 1\n"
     ]
    },
    {
     "data": {
      "text/plain": [
       "False"
      ]
     },
     "execution_count": 2,
     "metadata": {},
     "output_type": "execute_result"
    }
   ],
   "source": [
    "n = 1\n",
    "coef = 1e-17 \n",
    "e = 1e-17 # This is the first e checked\n",
    "\n",
    "# Stop when the condition 1 - e != 1 is satisfied\n",
    "while 1 - e == 1: \n",
    "    n += 1e-6 \n",
    "    e = n*coef # Increase the initial guess by 0.000006%\n",
    "print(f\"{e:.22f} is approximately the smallest number such that 1 - e /= 1\")\n",
    "1 - e == 1"
   ]
  },
  {
   "cell_type": "markdown",
   "id": "a995cf82-64b9-4a93-b156-2389fc4d90a9",
   "metadata": {},
   "source": [
    "### b) *The smallest $\\epsilon$ such that  $1.0 + \\epsilon \\neq 1$*"
   ]
  },
  {
   "cell_type": "code",
   "execution_count": 3,
   "id": "9b125d6b-2413-46a5-8615-9373f01b5975",
   "metadata": {},
   "outputs": [
    {
     "name": "stdout",
     "output_type": "stream",
     "text": [
      "0.0000000000000001110223 is approximately the smallest number such that 1 + e /= 1\n"
     ]
    },
    {
     "data": {
      "text/plain": [
       "False"
      ]
     },
     "execution_count": 3,
     "metadata": {},
     "output_type": "execute_result"
    }
   ],
   "source": [
    "# Use the same test as before but flip the arithmatic:\n",
    "n = 1\n",
    "coef = 1e-17\n",
    "e = 1e-17\n",
    "while 1 + e == 1: \n",
    "    n += 1e-6\n",
    "    e = n*coef\n",
    "print(f\"{e:0.22f} is approximately the smallest number such that 1 + e /= 1\")\n",
    "1 + e == 1"
   ]
  },
  {
   "cell_type": "markdown",
   "id": "f4202c49-8935-4cb2-a015-0b9a99200102",
   "metadata": {},
   "source": [
    "### c) *The maximum representable number*"
   ]
  },
  {
   "cell_type": "code",
   "execution_count": 4,
   "id": "8d36ba3e-5905-4374-9530-9f5e6d1fc157",
   "metadata": {},
   "outputs": [
    {
     "ename": "OverflowError",
     "evalue": "(34, 'Numerical result out of range')",
     "output_type": "error",
     "traceback": [
      "\u001b[0;31m---------------------------------------------------------------------------\u001b[0m",
      "\u001b[0;31mOverflowError\u001b[0m                             Traceback (most recent call last)",
      "\u001b[0;32m/tmp/ipykernel_141/860989347.py\u001b[0m in \u001b[0;36m<module>\u001b[0;34m\u001b[0m\n\u001b[1;32m      4\u001b[0m         \u001b[0mvalLast\u001b[0m \u001b[0;34m=\u001b[0m \u001b[0mval\u001b[0m\u001b[0;34m\u001b[0m\u001b[0;34m\u001b[0m\u001b[0m\n\u001b[1;32m      5\u001b[0m         \u001b[0ma\u001b[0m \u001b[0;34m+=\u001b[0m \u001b[0;36m10.0\u001b[0m\u001b[0;34m/\u001b[0m\u001b[0;36m10000.0\u001b[0m\u001b[0;34m\u001b[0m\u001b[0;34m\u001b[0m\u001b[0m\n\u001b[0;32m----> 6\u001b[0;31m         \u001b[0mval\u001b[0m \u001b[0;34m=\u001b[0m \u001b[0;36m10\u001b[0m\u001b[0;34m**\u001b[0m\u001b[0ma\u001b[0m\u001b[0;34m\u001b[0m\u001b[0;34m\u001b[0m\u001b[0m\n\u001b[0m",
      "\u001b[0;31mOverflowError\u001b[0m: (34, 'Numerical result out of range')"
     ]
    }
   ],
   "source": [
    "val = 10.0**300.0 # Approximately the largest number\n",
    "a = 300.0 #The first exponent to check\n",
    "while val != np.inf:\n",
    "        valLast = val\n",
    "        a += 10.0/10000.0\n",
    "        val = 10**a"
   ]
  },
  {
   "cell_type": "code",
   "execution_count": 5,
   "id": "4a5bad20-931c-48fb-9f2c-cf7e9f8474e0",
   "metadata": {},
   "outputs": [
    {
     "name": "stdout",
     "output_type": "stream",
     "text": [
      "The largest value is 1.794733626025935e+308\n"
     ]
    }
   ],
   "source": [
    "print(f\"The largest value is {valLast}\")"
   ]
  },
  {
   "cell_type": "markdown",
   "id": "423ebed4-142c-4c68-9a4a-27ddfb17e635",
   "metadata": {},
   "source": [
    "The above error is acceptable since we were looking for when the number went out of range. That said I don't know why it didn't just set the number equal to infinity. Regardless we know the number just before was still with the range so we take that number to be the largest representable float.  \n",
    "\n",
    "### d) *The smallest positive value*"
   ]
  },
  {
   "cell_type": "code",
   "execution_count": 6,
   "id": "b0f5afb5-bd2c-4552-a895-c75cc05b4685",
   "metadata": {},
   "outputs": [
    {
     "name": "stdout",
     "output_type": "stream",
     "text": [
      "The smallest representable value is 5e-324\n"
     ]
    }
   ],
   "source": [
    "# Same as before only this time switch the sign of the exponent\n",
    "val = 10.0**-300.0\n",
    "a = 300.0\n",
    "while val != 0:\n",
    "    valLast = val\n",
    "    a += 10.0/100000\n",
    "    val = 10.0**-a\n",
    "print(f\"The smallest representable value is {valLast}\")"
   ]
  },
  {
   "cell_type": "markdown",
   "id": "2752cf1d-9142-493c-9a90-451adc7b95b8",
   "metadata": {},
   "source": [
    "The IEEE 754 representation allows 1 bit for sign, 11 for exponent and 53 bit significand precision including the hidden bit. With 11 bits for the exponent, the largest exponent can be 2047. Since the exponent is biased, the smallest and largest exponents are -1022 and 1023 since the exponents -1023 adn 1024 are reserved for special numbers. The mantissa represents the places following the decimal. 2^52 is some 16 digit number meaning there are 16 significant digits. With this in mind, the largest representable number is given by 1 + (1 - 2^-52) * 2^1023"
   ]
  },
  {
   "cell_type": "code",
   "execution_count": 28,
   "id": "3cc730d8-617e-4b20-a6ae-bc5902a204d0",
   "metadata": {},
   "outputs": [
    {
     "data": {
      "text/plain": [
       "1.7976931348623157e+308"
      ]
     },
     "execution_count": 28,
     "metadata": {},
     "output_type": "execute_result"
    }
   ],
   "source": [
    "(1. + (1. - 2.**-52)) * 2.**1023"
   ]
  },
  {
   "cell_type": "markdown",
   "id": "0dea29cf-6343-41fd-9812-6f68eea1b091",
   "metadata": {},
   "source": [
    "And the smallest number is given by "
   ]
  },
  {
   "cell_type": "code",
   "execution_count": 34,
   "id": "88bbccb5-c99f-41b7-8e11-53c044b32182",
   "metadata": {},
   "outputs": [
    {
     "data": {
      "text/plain": [
       "5e-324"
      ]
     },
     "execution_count": 34,
     "metadata": {},
     "output_type": "execute_result"
    }
   ],
   "source": [
    "2**-52 * 2**-1022"
   ]
  },
  {
   "cell_type": "markdown",
   "id": "904db5fc-49ab-4d3d-9921-e403f43368eb",
   "metadata": {},
   "source": [
    "Finally the smallest number that can be added to one to have it not equal one. This gap is given by 2^-52/2."
   ]
  },
  {
   "cell_type": "markdown",
   "id": "3b181b47-95e4-4339-8781-fc6ce8e73e46",
   "metadata": {},
   "source": [
    "# 2"
   ]
  },
  {
   "cell_type": "code",
   "execution_count": null,
   "id": "48dee22a-ee3e-404f-b630-eb2e9abf09ff",
   "metadata": {},
   "outputs": [],
   "source": [
    "# Make x for values 10^-7 and smaller\n",
    "x = np.linspace(0, 1e-7, 1000)\n",
    "func = (1 - np.cos(x))/x**2\n",
    "\n",
    "fig, ax = plt.subplots(1,1, figsize = (10, 10))\n",
    "ax.scatter(x, func, s= 2)\n",
    "ax.set_title(\"Plot of $y = \\\\frac{1 - \\cos{x}}{x^2}$ for small values of x\", fontsize = 16) \n",
    "plt.xlim(1e-7, 0)"
   ]
  },
  {
   "cell_type": "markdown",
   "id": "54e1b155-fa6e-4d00-b24c-12acb046aba3",
   "metadata": {
    "tags": []
   },
   "source": [
    "The analytic limit of this function is $\\frac{1}{2}$. The x axis is reversed so that values are decreasing towards the right in order to illustrate the limit as x approaches 0. It can be seen that numerically this function *diverges* for $x \\rightarrow 0$. The reason for this is that the rounding error is a large fraction of the result of $1 - \\cos{x}$. This fraction in creases as x decreases and as a result the numerical evaluation of the function diverges as x approaches 0. \n",
    "\n",
    "# 3\n",
    "### a) "
   ]
  },
  {
   "cell_type": "code",
   "execution_count": null,
   "id": "31ec785d-bc60-4a5b-b280-b50f9216df4d",
   "metadata": {},
   "outputs": [],
   "source": [
    "def linear_interpolate(file, x):\n",
    "    # A function to perform linear interpolation using data inside\n",
    "    # \"file\" at the point \"x\"\n",
    "    \n",
    "    # Read in the file\n",
    "    file = np.loadtxt(file, skiprows = 1)\n",
    "    \n",
    "    nearest_idx = np.argmin(np.abs(file[:,0] - x))\n",
    "\n",
    "    if file[nearest_idx, 0] <= x: \n",
    "        #Perform interpolation using point above nearest_idx\n",
    "        \n",
    "        # Creates a linear regression between the points nearest to x\n",
    "        result = scipy.stats.linregress([file[nearest_idx, 0], \n",
    "                                   file[nearest_idx + 1, 0]],\n",
    "                                  [file[nearest_idx, 1], \n",
    "                                   file[nearest_idx + 1, 1]])\n",
    "    \n",
    "        return result.slope * x + result.intercept\n",
    "    \n",
    "    else: \n",
    "        #Perform interpolation using point below nearest_idx\n",
    "        \n",
    "        result = scipy.stats.linregress([file[nearest_idx, 0], \n",
    "                                   file[nearest_idx - 1, 0]],\n",
    "                                  [file[nearest_idx, 1], \n",
    "                                   file[nearest_idx - 1, 1]])\n",
    "\n",
    "        return result.slope * x + result.intercept"
   ]
  },
  {
   "cell_type": "markdown",
   "id": "8d59cc0f-63f8-4764-a1a5-d00ee4f94cf1",
   "metadata": {},
   "source": [
    "### b)"
   ]
  },
  {
   "cell_type": "code",
   "execution_count": null,
   "id": "75d293df-b364-47c7-b1b1-02464e72318f",
   "metadata": {},
   "outputs": [],
   "source": [
    "print(f\"Linear interpolation gives a value of {linear_interpolate(\"ps2data.txt\", 0.75)} for x = 0.75\")"
   ]
  },
  {
   "cell_type": "code",
   "execution_count": null,
   "id": "2262d5b0-16d5-45b6-80a7-6e28461b638e",
   "metadata": {},
   "outputs": [],
   "source": [
    "# Load in the data\n",
    "data = np.loadtxt(\"ps2data.txt\", skiprows = 1)\n",
    "xdata = data[:,0]\n",
    "ydata = data[:,1]\n",
    "\n",
    "def nevilles(xd, yd, x): \n",
    "    n = len(xd) # The length of our data\n",
    "    p = n*[0] # Something to store the value of the polynomial at that point\n",
    "    for i in range(n): # For every column\n",
    "        for j in range(n - i): # Compute each term of the polynoial\n",
    "            if i == 0:\n",
    "                p[j] = yd[j] # The first column, each term is equal to the value for y\n",
    "            else:\n",
    "                p[j] = ((x - xd[i + j]) * p[j] + # Perform polynomial interpolation \\ \n",
    "                        (xd[j] - x) * p[j + 1]) / \\\n",
    "                        (xd[j] - xd[j + i])\n",
    "    return p[0] \n",
    "\n",
    "# The value of the approximation for x = 0.75\n",
    "print(f\"polynomial interpolation gives a value of {nevilles(xdata, ydata, 0.75)} for x = 0.75\")"
   ]
  },
  {
   "cell_type": "markdown",
   "id": "0fc72b39-7955-404d-9022-d9ebe3d928d4",
   "metadata": {},
   "source": [
    "In order to judge the appropriateness of this interpolation, it would be useful to see it's approximation for a range of points that covers the same range as the data"
   ]
  },
  {
   "cell_type": "code",
   "execution_count": null,
   "id": "0b023ba3-08bb-4db0-aa4b-06fcde9c1bed",
   "metadata": {},
   "outputs": [],
   "source": [
    "fig, ax = plt.subplots(1,1, figsize = (10, 10))\n",
    "x = np.linspace(min(xdata), max(xdata), 100) # Range of values to use for interpolation\n",
    "y_nev = [nevilles(xdata, ydata, i) for i in x] # Y values given by nevilles algorithm\n",
    "\n",
    "ax.plot(x,y_nev, label = \"Polynomial Interpolation\")\n",
    "\n",
    "# Perform linear interpolation for almost the same domain\n",
    "file = 'ps2data.txt'\n",
    "y_lin = [linear_interpolate(file, i) for i in x[:-1]] \n",
    "\n",
    "ax.plot(x[:-1], y_lin, label = \"Linear Interpolation\")\n",
    "\n",
    "# Plot the data used for interpolation\n",
    "ax.scatter(xdata, ydata, label = \"Data\", color = 'r', alpha = 1)\n",
    "\n",
    "# Plot the function itself\n",
    "y = 1/(1+ 25*x**2)\n",
    "ax.plot(x, y, label = \"Real Function\")\n",
    "\n",
    "ax.legend(fontsize = 13)\n",
    "ax.set_title(\"Interpolation demonstration using $y = \\\\frac{1}{1+25x^2}$\", fontsize = 16)"
   ]
  },
  {
   "cell_type": "markdown",
   "id": "ac02990b-03fe-4f11-a858-f8590dc5c36a",
   "metadata": {},
   "source": [
    "The value of the function is actually in between the values given by linear interpolation and the fourth order polynomial. That said, the linear interpolation gives a better estimate than the fourth oder polynomial interpolation judging by the distance from the actual function to the curves. The results here are not surprising: The points for the interpolation lie at roughly the roots of the orinal curve. In this scenario, linear interpolation does not miss any crucial turns of the orignal function. If for instance the point at x = 0 was not included as an interpolation point, linear interpolation would underestimate the value of the function at that point very severely depending on where the points around x = 0 were located for interpolation. \n",
    "\n",
    "Polynomial approximation also suffers from over and underestimations for higher order polynomials, called runges phenomenon. This is especially important near the edges of the interpolation, like how 0.75 lies between the second to last, and last points used for interpolation. "
   ]
  }
 ],
 "metadata": {
  "kernelspec": {
   "display_name": "Python 3 (ipykernel)",
   "language": "python",
   "name": "python3"
  },
  "language_info": {
   "codemirror_mode": {
    "name": "ipython",
    "version": 3
   },
   "file_extension": ".py",
   "mimetype": "text/x-python",
   "name": "python",
   "nbconvert_exporter": "python",
   "pygments_lexer": "ipython3",
   "version": "3.9.7"
  }
 },
 "nbformat": 4,
 "nbformat_minor": 5
}
